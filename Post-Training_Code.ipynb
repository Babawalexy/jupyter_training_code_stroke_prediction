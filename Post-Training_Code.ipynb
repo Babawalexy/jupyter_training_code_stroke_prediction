{
 "cells": [
  {
   "cell_type": "code",
   "execution_count": 1,
   "id": "9f5dba2a",
   "metadata": {
    "_cell_guid": "b1076dfc-b9ad-4769-8c92-a6c4dae69d19",
    "_uuid": "8f2839f25d086af736a60e9eeb907d3b93b6e0e5",
    "execution": {
     "iopub.execute_input": "2024-04-15T16:46:58.866104Z",
     "iopub.status.busy": "2024-04-15T16:46:58.865790Z",
     "iopub.status.idle": "2024-04-15T16:46:59.456520Z",
     "shell.execute_reply": "2024-04-15T16:46:59.455268Z"
    },
    "papermill": {
     "duration": 0.598471,
     "end_time": "2024-04-15T16:46:59.458359",
     "exception": false,
     "start_time": "2024-04-15T16:46:58.859888",
     "status": "completed"
    },
    "tags": []
   },
   "outputs": [
    {
     "name": "stdout",
     "output_type": "stream",
     "text": [
      "/kaggle/input/gemma/keras/gemma_instruct_2b_en/2/config.json\n",
      "/kaggle/input/gemma/keras/gemma_instruct_2b_en/2/tokenizer.json\n",
      "/kaggle/input/gemma/keras/gemma_instruct_2b_en/2/metadata.json\n",
      "/kaggle/input/gemma/keras/gemma_instruct_2b_en/2/model.weights.h5\n",
      "/kaggle/input/gemma/keras/gemma_instruct_2b_en/2/assets/tokenizer/vocabulary.spm\n",
      "/kaggle/input/strokepredictionrf/scikitlearn/rf/2/random_forest_model.pkl\n"
     ]
    }
   ],
   "source": [
    "# This Python 3 environment comes with many helpful analytics libraries installed\n",
    "# It is defined by the kaggle/python Docker image: https://github.com/kaggle/docker-python\n",
    "# For example, here's several helpful packages to load\n",
    "\n",
    "import numpy as np # linear algebra\n",
    "import pandas as pd # data processing, CSV file I/O (e.g. pd.read_csv)\n",
    "\n",
    "# Input data files are available in the read-only \"../input/\" directory\n",
    "# For example, running this (by clicking run or pressing Shift+Enter) will list all files under the input directory\n",
    "\n",
    "import os\n",
    "for dirname, _, filenames in os.walk('/kaggle/input'):\n",
    "    for filename in filenames:\n",
    "        print(os.path.join(dirname, filename))\n",
    "\n",
    "# You can write up to 20GB to the current directory (/kaggle/working/) that gets preserved as output when you create a version using \"Save & Run All\" \n",
    "# You can also write temporary files to /kaggle/temp/, but they won't be saved outside of the current session"
   ]
  },
  {
   "cell_type": "code",
   "execution_count": 2,
   "id": "a2c697c1",
   "metadata": {
    "execution": {
     "iopub.execute_input": "2024-04-15T16:46:59.467748Z",
     "iopub.status.busy": "2024-04-15T16:46:59.467373Z",
     "iopub.status.idle": "2024-04-15T16:47:24.594591Z",
     "shell.execute_reply": "2024-04-15T16:47:24.593785Z"
    },
    "papermill": {
     "duration": 25.133847,
     "end_time": "2024-04-15T16:47:24.596532",
     "exception": false,
     "start_time": "2024-04-15T16:46:59.462685",
     "status": "completed"
    },
    "tags": []
   },
   "outputs": [
    {
     "name": "stdout",
     "output_type": "stream",
     "text": [
      "Requirement already satisfied: keras-nlp in /opt/conda/lib/python3.10/site-packages (0.8.2)\r\n",
      "Collecting keras-nlp\r\n",
      "  Downloading keras_nlp-0.9.3-py3-none-any.whl.metadata (7.0 kB)\r\n",
      "Collecting keras-core (from keras-nlp)\r\n",
      "  Downloading keras_core-0.1.7-py3-none-any.whl.metadata (4.3 kB)\r\n",
      "Requirement already satisfied: absl-py in /opt/conda/lib/python3.10/site-packages (from keras-nlp) (1.4.0)\r\n",
      "Requirement already satisfied: numpy in /opt/conda/lib/python3.10/site-packages (from keras-nlp) (1.26.4)\r\n",
      "Requirement already satisfied: packaging in /opt/conda/lib/python3.10/site-packages (from keras-nlp) (21.3)\r\n",
      "Requirement already satisfied: regex in /opt/conda/lib/python3.10/site-packages (from keras-nlp) (2023.12.25)\r\n",
      "Requirement already satisfied: rich in /opt/conda/lib/python3.10/site-packages (from keras-nlp) (13.7.0)\r\n",
      "Requirement already satisfied: dm-tree in /opt/conda/lib/python3.10/site-packages (from keras-nlp) (0.1.8)\r\n",
      "Requirement already satisfied: kagglehub in /opt/conda/lib/python3.10/site-packages (from keras-nlp) (0.2.2)\r\n",
      "Requirement already satisfied: tensorflow-text in /opt/conda/lib/python3.10/site-packages (from keras-nlp) (2.15.0)\r\n",
      "Requirement already satisfied: requests in /opt/conda/lib/python3.10/site-packages (from kagglehub->keras-nlp) (2.31.0)\r\n",
      "Requirement already satisfied: tqdm in /opt/conda/lib/python3.10/site-packages (from kagglehub->keras-nlp) (4.66.1)\r\n",
      "Requirement already satisfied: namex in /opt/conda/lib/python3.10/site-packages (from keras-core->keras-nlp) (0.0.7)\r\n",
      "Requirement already satisfied: h5py in /opt/conda/lib/python3.10/site-packages (from keras-core->keras-nlp) (3.10.0)\r\n",
      "Requirement already satisfied: pyparsing!=3.0.5,>=2.0.2 in /opt/conda/lib/python3.10/site-packages (from packaging->keras-nlp) (3.1.1)\r\n",
      "Requirement already satisfied: markdown-it-py>=2.2.0 in /opt/conda/lib/python3.10/site-packages (from rich->keras-nlp) (3.0.0)\r\n",
      "Requirement already satisfied: pygments<3.0.0,>=2.13.0 in /opt/conda/lib/python3.10/site-packages (from rich->keras-nlp) (2.17.2)\r\n",
      "Requirement already satisfied: tensorflow-hub>=0.13.0 in /opt/conda/lib/python3.10/site-packages (from tensorflow-text->keras-nlp) (0.16.1)\r\n",
      "Requirement already satisfied: tensorflow<2.16,>=2.15.0 in /opt/conda/lib/python3.10/site-packages (from tensorflow-text->keras-nlp) (2.15.0)\r\n",
      "Requirement already satisfied: mdurl~=0.1 in /opt/conda/lib/python3.10/site-packages (from markdown-it-py>=2.2.0->rich->keras-nlp) (0.1.2)\r\n",
      "Requirement already satisfied: astunparse>=1.6.0 in /opt/conda/lib/python3.10/site-packages (from tensorflow<2.16,>=2.15.0->tensorflow-text->keras-nlp) (1.6.3)\r\n",
      "Requirement already satisfied: flatbuffers>=23.5.26 in /opt/conda/lib/python3.10/site-packages (from tensorflow<2.16,>=2.15.0->tensorflow-text->keras-nlp) (23.5.26)\r\n",
      "Requirement already satisfied: gast!=0.5.0,!=0.5.1,!=0.5.2,>=0.2.1 in /opt/conda/lib/python3.10/site-packages (from tensorflow<2.16,>=2.15.0->tensorflow-text->keras-nlp) (0.5.4)\r\n",
      "Requirement already satisfied: google-pasta>=0.1.1 in /opt/conda/lib/python3.10/site-packages (from tensorflow<2.16,>=2.15.0->tensorflow-text->keras-nlp) (0.2.0)\r\n",
      "Requirement already satisfied: libclang>=13.0.0 in /opt/conda/lib/python3.10/site-packages (from tensorflow<2.16,>=2.15.0->tensorflow-text->keras-nlp) (16.0.6)\r\n",
      "Requirement already satisfied: ml-dtypes~=0.2.0 in /opt/conda/lib/python3.10/site-packages (from tensorflow<2.16,>=2.15.0->tensorflow-text->keras-nlp) (0.2.0)\r\n",
      "Requirement already satisfied: opt-einsum>=2.3.2 in /opt/conda/lib/python3.10/site-packages (from tensorflow<2.16,>=2.15.0->tensorflow-text->keras-nlp) (3.3.0)\r\n",
      "Requirement already satisfied: protobuf!=4.21.0,!=4.21.1,!=4.21.2,!=4.21.3,!=4.21.4,!=4.21.5,<5.0.0dev,>=3.20.3 in /opt/conda/lib/python3.10/site-packages (from tensorflow<2.16,>=2.15.0->tensorflow-text->keras-nlp) (3.20.3)\r\n",
      "Requirement already satisfied: setuptools in /opt/conda/lib/python3.10/site-packages (from tensorflow<2.16,>=2.15.0->tensorflow-text->keras-nlp) (69.0.3)\r\n",
      "Requirement already satisfied: six>=1.12.0 in /opt/conda/lib/python3.10/site-packages (from tensorflow<2.16,>=2.15.0->tensorflow-text->keras-nlp) (1.16.0)\r\n",
      "Requirement already satisfied: termcolor>=1.1.0 in /opt/conda/lib/python3.10/site-packages (from tensorflow<2.16,>=2.15.0->tensorflow-text->keras-nlp) (2.4.0)\r\n",
      "Requirement already satisfied: typing-extensions>=3.6.6 in /opt/conda/lib/python3.10/site-packages (from tensorflow<2.16,>=2.15.0->tensorflow-text->keras-nlp) (4.9.0)\r\n",
      "Requirement already satisfied: wrapt<1.15,>=1.11.0 in /opt/conda/lib/python3.10/site-packages (from tensorflow<2.16,>=2.15.0->tensorflow-text->keras-nlp) (1.14.1)\r\n",
      "Requirement already satisfied: tensorflow-io-gcs-filesystem>=0.23.1 in /opt/conda/lib/python3.10/site-packages (from tensorflow<2.16,>=2.15.0->tensorflow-text->keras-nlp) (0.35.0)\r\n",
      "Requirement already satisfied: grpcio<2.0,>=1.24.3 in /opt/conda/lib/python3.10/site-packages (from tensorflow<2.16,>=2.15.0->tensorflow-text->keras-nlp) (1.60.0)\r\n",
      "Requirement already satisfied: tensorboard<2.16,>=2.15 in /opt/conda/lib/python3.10/site-packages (from tensorflow<2.16,>=2.15.0->tensorflow-text->keras-nlp) (2.15.1)\r\n",
      "Requirement already satisfied: tensorflow-estimator<2.16,>=2.15.0 in /opt/conda/lib/python3.10/site-packages (from tensorflow<2.16,>=2.15.0->tensorflow-text->keras-nlp) (2.15.0)\r\n",
      "Collecting keras<2.16,>=2.15.0 (from tensorflow<2.16,>=2.15.0->tensorflow-text->keras-nlp)\r\n",
      "  Downloading keras-2.15.0-py3-none-any.whl.metadata (2.4 kB)\r\n",
      "Requirement already satisfied: tf-keras>=2.14.1 in /opt/conda/lib/python3.10/site-packages (from tensorflow-hub>=0.13.0->tensorflow-text->keras-nlp) (2.15.1)\r\n",
      "Requirement already satisfied: charset-normalizer<4,>=2 in /opt/conda/lib/python3.10/site-packages (from requests->kagglehub->keras-nlp) (3.3.2)\r\n",
      "Requirement already satisfied: idna<4,>=2.5 in /opt/conda/lib/python3.10/site-packages (from requests->kagglehub->keras-nlp) (3.6)\r\n",
      "Requirement already satisfied: urllib3<3,>=1.21.1 in /opt/conda/lib/python3.10/site-packages (from requests->kagglehub->keras-nlp) (1.26.18)\r\n",
      "Requirement already satisfied: certifi>=2017.4.17 in /opt/conda/lib/python3.10/site-packages (from requests->kagglehub->keras-nlp) (2024.2.2)\r\n",
      "Requirement already satisfied: wheel<1.0,>=0.23.0 in /opt/conda/lib/python3.10/site-packages (from astunparse>=1.6.0->tensorflow<2.16,>=2.15.0->tensorflow-text->keras-nlp) (0.42.0)\r\n",
      "Requirement already satisfied: google-auth<3,>=1.6.3 in /opt/conda/lib/python3.10/site-packages (from tensorboard<2.16,>=2.15->tensorflow<2.16,>=2.15.0->tensorflow-text->keras-nlp) (2.26.1)\r\n",
      "Requirement already satisfied: google-auth-oauthlib<2,>=0.5 in /opt/conda/lib/python3.10/site-packages (from tensorboard<2.16,>=2.15->tensorflow<2.16,>=2.15.0->tensorflow-text->keras-nlp) (1.2.0)\r\n",
      "Requirement already satisfied: markdown>=2.6.8 in /opt/conda/lib/python3.10/site-packages (from tensorboard<2.16,>=2.15->tensorflow<2.16,>=2.15.0->tensorflow-text->keras-nlp) (3.5.2)\r\n",
      "Requirement already satisfied: tensorboard-data-server<0.8.0,>=0.7.0 in /opt/conda/lib/python3.10/site-packages (from tensorboard<2.16,>=2.15->tensorflow<2.16,>=2.15.0->tensorflow-text->keras-nlp) (0.7.2)\r\n",
      "Requirement already satisfied: werkzeug>=1.0.1 in /opt/conda/lib/python3.10/site-packages (from tensorboard<2.16,>=2.15->tensorflow<2.16,>=2.15.0->tensorflow-text->keras-nlp) (3.0.2)\r\n",
      "Requirement already satisfied: cachetools<6.0,>=2.0.0 in /opt/conda/lib/python3.10/site-packages (from google-auth<3,>=1.6.3->tensorboard<2.16,>=2.15->tensorflow<2.16,>=2.15.0->tensorflow-text->keras-nlp) (4.2.4)\r\n",
      "Requirement already satisfied: pyasn1-modules>=0.2.1 in /opt/conda/lib/python3.10/site-packages (from google-auth<3,>=1.6.3->tensorboard<2.16,>=2.15->tensorflow<2.16,>=2.15.0->tensorflow-text->keras-nlp) (0.3.0)\r\n",
      "Requirement already satisfied: rsa<5,>=3.1.4 in /opt/conda/lib/python3.10/site-packages (from google-auth<3,>=1.6.3->tensorboard<2.16,>=2.15->tensorflow<2.16,>=2.15.0->tensorflow-text->keras-nlp) (4.9)\r\n",
      "Requirement already satisfied: requests-oauthlib>=0.7.0 in /opt/conda/lib/python3.10/site-packages (from google-auth-oauthlib<2,>=0.5->tensorboard<2.16,>=2.15->tensorflow<2.16,>=2.15.0->tensorflow-text->keras-nlp) (1.3.1)\r\n",
      "Requirement already satisfied: MarkupSafe>=2.1.1 in /opt/conda/lib/python3.10/site-packages (from werkzeug>=1.0.1->tensorboard<2.16,>=2.15->tensorflow<2.16,>=2.15.0->tensorflow-text->keras-nlp) (2.1.3)\r\n",
      "Requirement already satisfied: pyasn1<0.6.0,>=0.4.6 in /opt/conda/lib/python3.10/site-packages (from pyasn1-modules>=0.2.1->google-auth<3,>=1.6.3->tensorboard<2.16,>=2.15->tensorflow<2.16,>=2.15.0->tensorflow-text->keras-nlp) (0.5.1)\r\n",
      "Requirement already satisfied: oauthlib>=3.0.0 in /opt/conda/lib/python3.10/site-packages (from requests-oauthlib>=0.7.0->google-auth-oauthlib<2,>=0.5->tensorboard<2.16,>=2.15->tensorflow<2.16,>=2.15.0->tensorflow-text->keras-nlp) (3.2.2)\r\n",
      "Downloading keras_nlp-0.9.3-py3-none-any.whl (508 kB)\r\n",
      "\u001b[2K   \u001b[90m━━━━━━━━━━━━━━━━━━━━━━━━━━━━━━━━━━━━━━━━\u001b[0m \u001b[32m508.4/508.4 kB\u001b[0m \u001b[31m7.7 MB/s\u001b[0m eta \u001b[36m0:00:00\u001b[0m\r\n",
      "\u001b[?25hDownloading keras_core-0.1.7-py3-none-any.whl (950 kB)\r\n",
      "\u001b[2K   \u001b[90m━━━━━━━━━━━━━━━━━━━━━━━━━━━━━━━━━━━━━━━━\u001b[0m \u001b[32m950.8/950.8 kB\u001b[0m \u001b[31m30.9 MB/s\u001b[0m eta \u001b[36m0:00:00\u001b[0m\r\n",
      "\u001b[?25hDownloading keras-2.15.0-py3-none-any.whl (1.7 MB)\r\n",
      "\u001b[2K   \u001b[90m━━━━━━━━━━━━━━━━━━━━━━━━━━━━━━━━━━━━━━━━\u001b[0m \u001b[32m1.7/1.7 MB\u001b[0m \u001b[31m63.1 MB/s\u001b[0m eta \u001b[36m0:00:00\u001b[0m\r\n",
      "\u001b[?25hInstalling collected packages: keras, keras-core, keras-nlp\r\n",
      "  Attempting uninstall: keras\r\n",
      "    Found existing installation: keras 3.1.1\r\n",
      "    Uninstalling keras-3.1.1:\r\n",
      "      Successfully uninstalled keras-3.1.1\r\n",
      "  Attempting uninstall: keras-nlp\r\n",
      "    Found existing installation: keras-nlp 0.8.2\r\n",
      "    Uninstalling keras-nlp-0.8.2:\r\n",
      "      Successfully uninstalled keras-nlp-0.8.2\r\n",
      "\u001b[31mERROR: pip's dependency resolver does not currently take into account all the packages that are installed. This behaviour is the source of the following dependency conflicts.\r\n",
      "tensorflow-decision-forests 1.8.1 requires wurlitzer, which is not installed.\u001b[0m\u001b[31m\r\n",
      "\u001b[0mSuccessfully installed keras-2.15.0 keras-core-0.1.7 keras-nlp-0.9.3\r\n",
      "Requirement already satisfied: keras in /opt/conda/lib/python3.10/site-packages (2.15.0)\r\n",
      "Collecting keras\r\n",
      "  Downloading keras-3.2.1-py3-none-any.whl.metadata (5.6 kB)\r\n",
      "Requirement already satisfied: absl-py in /opt/conda/lib/python3.10/site-packages (from keras) (1.4.0)\r\n",
      "Requirement already satisfied: numpy in /opt/conda/lib/python3.10/site-packages (from keras) (1.26.4)\r\n",
      "Requirement already satisfied: rich in /opt/conda/lib/python3.10/site-packages (from keras) (13.7.0)\r\n",
      "Requirement already satisfied: namex in /opt/conda/lib/python3.10/site-packages (from keras) (0.0.7)\r\n",
      "Requirement already satisfied: h5py in /opt/conda/lib/python3.10/site-packages (from keras) (3.10.0)\r\n",
      "Requirement already satisfied: optree in /opt/conda/lib/python3.10/site-packages (from keras) (0.11.0)\r\n",
      "Requirement already satisfied: ml-dtypes in /opt/conda/lib/python3.10/site-packages (from keras) (0.2.0)\r\n",
      "Requirement already satisfied: typing-extensions>=4.0.0 in /opt/conda/lib/python3.10/site-packages (from optree->keras) (4.9.0)\r\n",
      "Requirement already satisfied: markdown-it-py>=2.2.0 in /opt/conda/lib/python3.10/site-packages (from rich->keras) (3.0.0)\r\n",
      "Requirement already satisfied: pygments<3.0.0,>=2.13.0 in /opt/conda/lib/python3.10/site-packages (from rich->keras) (2.17.2)\r\n",
      "Requirement already satisfied: mdurl~=0.1 in /opt/conda/lib/python3.10/site-packages (from markdown-it-py>=2.2.0->rich->keras) (0.1.2)\r\n",
      "Downloading keras-3.2.1-py3-none-any.whl (1.1 MB)\r\n",
      "\u001b[2K   \u001b[90m━━━━━━━━━━━━━━━━━━━━━━━━━━━━━━━━━━━━━━━━\u001b[0m \u001b[32m1.1/1.1 MB\u001b[0m \u001b[31m14.3 MB/s\u001b[0m eta \u001b[36m0:00:00\u001b[0m\r\n",
      "\u001b[?25hInstalling collected packages: keras\r\n",
      "  Attempting uninstall: keras\r\n",
      "    Found existing installation: keras 2.15.0\r\n",
      "    Uninstalling keras-2.15.0:\r\n",
      "      Successfully uninstalled keras-2.15.0\r\n",
      "\u001b[31mERROR: pip's dependency resolver does not currently take into account all the packages that are installed. This behaviour is the source of the following dependency conflicts.\r\n",
      "tensorflow-decision-forests 1.8.1 requires wurlitzer, which is not installed.\r\n",
      "tensorflow 2.15.0 requires keras<2.16,>=2.15.0, but you have keras 3.2.1 which is incompatible.\u001b[0m\u001b[31m\r\n",
      "\u001b[0mSuccessfully installed keras-3.2.1\r\n"
     ]
    }
   ],
   "source": [
    "!pip install -U keras-nlp\n",
    "!pip install -U keras\n"
   ]
  },
  {
   "cell_type": "code",
   "execution_count": 3,
   "id": "fd4527bd",
   "metadata": {
    "execution": {
     "iopub.execute_input": "2024-04-15T16:47:24.610471Z",
     "iopub.status.busy": "2024-04-15T16:47:24.610119Z",
     "iopub.status.idle": "2024-04-15T16:47:35.175329Z",
     "shell.execute_reply": "2024-04-15T16:47:35.174451Z"
    },
    "papermill": {
     "duration": 10.574719,
     "end_time": "2024-04-15T16:47:35.177562",
     "exception": false,
     "start_time": "2024-04-15T16:47:24.602843",
     "status": "completed"
    },
    "tags": []
   },
   "outputs": [
    {
     "name": "stderr",
     "output_type": "stream",
     "text": [
      "2024-04-15 16:47:26.122567: E external/local_xla/xla/stream_executor/cuda/cuda_dnn.cc:9261] Unable to register cuDNN factory: Attempting to register factory for plugin cuDNN when one has already been registered\n",
      "2024-04-15 16:47:26.122665: E external/local_xla/xla/stream_executor/cuda/cuda_fft.cc:607] Unable to register cuFFT factory: Attempting to register factory for plugin cuFFT when one has already been registered\n",
      "2024-04-15 16:47:26.227287: E external/local_xla/xla/stream_executor/cuda/cuda_blas.cc:1515] Unable to register cuBLAS factory: Attempting to register factory for plugin cuBLAS when one has already been registered\n"
     ]
    }
   ],
   "source": [
    "import keras\n",
    "import keras_nlp\n",
    "import numpy as np"
   ]
  },
  {
   "cell_type": "code",
   "execution_count": 4,
   "id": "c72ed1d5",
   "metadata": {
    "execution": {
     "iopub.execute_input": "2024-04-15T16:47:35.191560Z",
     "iopub.status.busy": "2024-04-15T16:47:35.191089Z",
     "iopub.status.idle": "2024-04-15T16:47:35.194918Z",
     "shell.execute_reply": "2024-04-15T16:47:35.194195Z"
    },
    "papermill": {
     "duration": 0.012802,
     "end_time": "2024-04-15T16:47:35.196972",
     "exception": false,
     "start_time": "2024-04-15T16:47:35.184170",
     "status": "completed"
    },
    "tags": []
   },
   "outputs": [],
   "source": [
    "import os\n",
    "\n",
    "# The Keras 3 distribution API is only implemented for the JAX backend for now\n",
    "os.environ[\"KERAS_BACKEND\"] = \"jax\"\n",
    "# Pre-allocate 100% of TPU memory to minimize memory fragmentation\n",
    "os.environ[\"XLA_PYTHON_CLIENT_MEM_FRACTION\"] = \"1.0\""
   ]
  },
  {
   "cell_type": "code",
   "execution_count": 5,
   "id": "bcad38f3",
   "metadata": {
    "execution": {
     "iopub.execute_input": "2024-04-15T16:47:35.211279Z",
     "iopub.status.busy": "2024-04-15T16:47:35.210774Z",
     "iopub.status.idle": "2024-04-15T16:48:40.193809Z",
     "shell.execute_reply": "2024-04-15T16:48:40.192925Z"
    },
    "papermill": {
     "duration": 64.992708,
     "end_time": "2024-04-15T16:48:40.196155",
     "exception": false,
     "start_time": "2024-04-15T16:47:35.203447",
     "status": "completed"
    },
    "tags": []
   },
   "outputs": [
    {
     "name": "stderr",
     "output_type": "stream",
     "text": [
      "Attaching 'config.json' from model 'keras/gemma/keras/gemma_instruct_2b_en/2' to your Kaggle notebook...\n",
      "Attaching 'config.json' from model 'keras/gemma/keras/gemma_instruct_2b_en/2' to your Kaggle notebook...\n",
      "Attaching 'model.weights.h5' from model 'keras/gemma/keras/gemma_instruct_2b_en/2' to your Kaggle notebook...\n",
      "Attaching 'tokenizer.json' from model 'keras/gemma/keras/gemma_instruct_2b_en/2' to your Kaggle notebook...\n",
      "Attaching 'assets/tokenizer/vocabulary.spm' from model 'keras/gemma/keras/gemma_instruct_2b_en/2' to your Kaggle notebook...\n",
      "normalizer.cc(51) LOG(INFO) precompiled_charsmap is empty. use identity normalization.\n"
     ]
    }
   ],
   "source": [
    "gemma_lm = keras_nlp.models.GemmaCausalLM.from_preset(\"gemma_instruct_2b_en\")"
   ]
  },
  {
   "cell_type": "code",
   "execution_count": 6,
   "id": "a2461972",
   "metadata": {
    "execution": {
     "iopub.execute_input": "2024-04-15T16:48:40.210905Z",
     "iopub.status.busy": "2024-04-15T16:48:40.210621Z",
     "iopub.status.idle": "2024-04-15T16:48:40.214643Z",
     "shell.execute_reply": "2024-04-15T16:48:40.213780Z"
    },
    "papermill": {
     "duration": 0.013301,
     "end_time": "2024-04-15T16:48:40.216279",
     "exception": false,
     "start_time": "2024-04-15T16:48:40.202978",
     "status": "completed"
    },
    "tags": []
   },
   "outputs": [],
   "source": [
    "template = \"Instruction:\\n{instruction}\\n\\nResponse:\\n{response}\""
   ]
  },
  {
   "cell_type": "code",
   "execution_count": 7,
   "id": "1a92718c",
   "metadata": {
    "execution": {
     "iopub.execute_input": "2024-04-15T16:48:40.230087Z",
     "iopub.status.busy": "2024-04-15T16:48:40.229816Z",
     "iopub.status.idle": "2024-04-15T16:48:40.237735Z",
     "shell.execute_reply": "2024-04-15T16:48:40.236984Z"
    },
    "papermill": {
     "duration": 0.017094,
     "end_time": "2024-04-15T16:48:40.239815",
     "exception": false,
     "start_time": "2024-04-15T16:48:40.222721",
     "status": "completed"
    },
    "tags": []
   },
   "outputs": [],
   "source": [
    "gemma_lm.compile()"
   ]
  },
  {
   "cell_type": "code",
   "execution_count": 8,
   "id": "7dd3bb3c",
   "metadata": {
    "execution": {
     "iopub.execute_input": "2024-04-15T16:48:40.254968Z",
     "iopub.status.busy": "2024-04-15T16:48:40.254719Z",
     "iopub.status.idle": "2024-04-15T16:48:41.193625Z",
     "shell.execute_reply": "2024-04-15T16:48:41.192660Z"
    },
    "papermill": {
     "duration": 0.949047,
     "end_time": "2024-04-15T16:48:41.195719",
     "exception": false,
     "start_time": "2024-04-15T16:48:40.246672",
     "status": "completed"
    },
    "tags": []
   },
   "outputs": [],
   "source": [
    "import pickle \n",
    "with open(\"/kaggle/input/strokepredictionrf/scikitlearn/rf/2/random_forest_model.pkl\", 'rb') as file:\n",
    "    clf_re = pickle.load(file)"
   ]
  },
  {
   "cell_type": "code",
   "execution_count": null,
   "id": "8d0cb581",
   "metadata": {
    "papermill": {
     "duration": 0.006304,
     "end_time": "2024-04-15T16:48:41.208898",
     "exception": false,
     "start_time": "2024-04-15T16:48:41.202594",
     "status": "completed"
    },
    "tags": []
   },
   "outputs": [],
   "source": []
  },
  {
   "cell_type": "code",
   "execution_count": 9,
   "id": "dfef70cb",
   "metadata": {
    "execution": {
     "iopub.execute_input": "2024-04-15T16:48:41.223545Z",
     "iopub.status.busy": "2024-04-15T16:48:41.223224Z",
     "iopub.status.idle": "2024-04-15T16:48:41.228497Z",
     "shell.execute_reply": "2024-04-15T16:48:41.227743Z"
    },
    "papermill": {
     "duration": 0.01452,
     "end_time": "2024-04-15T16:48:41.230086",
     "exception": false,
     "start_time": "2024-04-15T16:48:41.215566",
     "status": "completed"
    },
    "tags": []
   },
   "outputs": [],
   "source": [
    "import numpy as np\n",
    "\n",
    "# Mapping dictionaries\n",
    "gender_mapping = {'Male': 1, 'Female': 0}\n",
    "hypertension_mapping = {'No': 0, 'Yes': 1}\n",
    "heart_disease_mapping = {'No': 0, 'Yes': 1}\n",
    "ever_married_mapping = {'No': 0, 'Yes': 1}\n",
    "work_type_mapping = {'Private': 0, 'Self-employed': 1, 'Govt_job': 2, 'children': 3}\n",
    "residence_type_mapping = {'Urban': 0, 'Rural': 1}\n",
    "smoking_status_mapping = {'Non-smoker': 0, 'Smoker': 1, 'Ex-smoker': 2, 'Unknown': 3}\n"
   ]
  },
  {
   "cell_type": "code",
   "execution_count": 10,
   "id": "98e2bb61",
   "metadata": {
    "execution": {
     "iopub.execute_input": "2024-04-15T16:48:41.244881Z",
     "iopub.status.busy": "2024-04-15T16:48:41.244577Z",
     "iopub.status.idle": "2024-04-15T16:48:41.874652Z",
     "shell.execute_reply": "2024-04-15T16:48:41.873447Z"
    },
    "papermill": {
     "duration": 0.638637,
     "end_time": "2024-04-15T16:48:41.875846",
     "exception": true,
     "start_time": "2024-04-15T16:48:41.237209",
     "status": "failed"
    },
    "tags": []
   },
   "outputs": [
    {
     "ename": "StdinNotImplementedError",
     "evalue": "raw_input was called, but this frontend does not support input requests.",
     "output_type": "error",
     "traceback": [
      "\u001b[0;31m---------------------------------------------------------------------------\u001b[0m",
      "\u001b[0;31mStdinNotImplementedError\u001b[0m                  Traceback (most recent call last)",
      "Cell \u001b[0;32mIn[10], line 45\u001b[0m\n\u001b[1;32m     42\u001b[0m     \u001b[38;5;28;01mreturn\u001b[39;00m data\n\u001b[1;32m     44\u001b[0m \u001b[38;5;66;03m# Call the function to get user input and prepare data\u001b[39;00m\n\u001b[0;32m---> 45\u001b[0m data \u001b[38;5;241m=\u001b[39m \u001b[43mget_user_input\u001b[49m\u001b[43m(\u001b[49m\u001b[43m)\u001b[49m\n",
      "Cell \u001b[0;32mIn[10], line 3\u001b[0m, in \u001b[0;36mget_user_input\u001b[0;34m()\u001b[0m\n\u001b[1;32m      1\u001b[0m \u001b[38;5;28;01mdef\u001b[39;00m \u001b[38;5;21mget_user_input\u001b[39m():\n\u001b[1;32m      2\u001b[0m     \u001b[38;5;66;03m# Gender\u001b[39;00m\n\u001b[0;32m----> 3\u001b[0m     gender \u001b[38;5;241m=\u001b[39m \u001b[38;5;28;43minput\u001b[39;49m\u001b[43m(\u001b[49m\u001b[38;5;124;43m\"\u001b[39;49m\u001b[38;5;124;43mEnter Gender (Male/Female): \u001b[39;49m\u001b[38;5;124;43m\"\u001b[39;49m\u001b[43m)\u001b[49m\n\u001b[1;32m      4\u001b[0m     gender_code \u001b[38;5;241m=\u001b[39m gender_mapping[gender]\n\u001b[1;32m      6\u001b[0m     \u001b[38;5;66;03m# Age\u001b[39;00m\n",
      "File \u001b[0;32m/opt/conda/lib/python3.10/site-packages/ipykernel/kernelbase.py:1261\u001b[0m, in \u001b[0;36mKernel.raw_input\u001b[0;34m(self, prompt)\u001b[0m\n\u001b[1;32m   1259\u001b[0m \u001b[38;5;28;01mif\u001b[39;00m \u001b[38;5;129;01mnot\u001b[39;00m \u001b[38;5;28mself\u001b[39m\u001b[38;5;241m.\u001b[39m_allow_stdin:\n\u001b[1;32m   1260\u001b[0m     msg \u001b[38;5;241m=\u001b[39m \u001b[38;5;124m\"\u001b[39m\u001b[38;5;124mraw_input was called, but this frontend does not support input requests.\u001b[39m\u001b[38;5;124m\"\u001b[39m\n\u001b[0;32m-> 1261\u001b[0m     \u001b[38;5;28;01mraise\u001b[39;00m StdinNotImplementedError(msg)\n\u001b[1;32m   1262\u001b[0m \u001b[38;5;28;01mreturn\u001b[39;00m \u001b[38;5;28mself\u001b[39m\u001b[38;5;241m.\u001b[39m_input_request(\n\u001b[1;32m   1263\u001b[0m     \u001b[38;5;28mstr\u001b[39m(prompt),\n\u001b[1;32m   1264\u001b[0m     \u001b[38;5;28mself\u001b[39m\u001b[38;5;241m.\u001b[39m_parent_ident[\u001b[38;5;124m\"\u001b[39m\u001b[38;5;124mshell\u001b[39m\u001b[38;5;124m\"\u001b[39m],\n\u001b[1;32m   1265\u001b[0m     \u001b[38;5;28mself\u001b[39m\u001b[38;5;241m.\u001b[39mget_parent(\u001b[38;5;124m\"\u001b[39m\u001b[38;5;124mshell\u001b[39m\u001b[38;5;124m\"\u001b[39m),\n\u001b[1;32m   1266\u001b[0m     password\u001b[38;5;241m=\u001b[39m\u001b[38;5;28;01mFalse\u001b[39;00m,\n\u001b[1;32m   1267\u001b[0m )\n",
      "\u001b[0;31mStdinNotImplementedError\u001b[0m: raw_input was called, but this frontend does not support input requests."
     ]
    }
   ],
   "source": [
    "def get_user_input():\n",
    "    # Gender\n",
    "    gender = input(\"Enter Gender (Male/Female): \")\n",
    "    gender_code = gender_mapping[gender]\n",
    "    \n",
    "    # Age\n",
    "    age = int(input(\"Enter Age: \"))\n",
    "    \n",
    "    # Hypertension\n",
    "    hypertension = input(\"Enter Hypertension (No/Yes): \")\n",
    "    hypertension_code = hypertension_mapping[hypertension]\n",
    "    \n",
    "    # Average Glucose Level\n",
    "    avg_glucose_level = float(input(\"Enter Average Glucose Level: \"))\n",
    "    \n",
    "    # BMI\n",
    "    bmi = float(input(\"Enter BMI: \"))\n",
    "    \n",
    "    # Residence Type\n",
    "    Residence_type = input(\"Enter Residence Type (Urban/Rural): \")\n",
    "    Residence_type_code = residence_type_mapping[Residence_type]\n",
    "    \n",
    "    # Smoking Status\n",
    "    smoking_status = input(\"Enter Smoking Status (Non-smoker/Smoker/Ex-smoker/Unknown): \")\n",
    "    smoking_status_code = smoking_status_mapping[smoking_status]\n",
    "    \n",
    "    # Heart Disease\n",
    "    heart_disease = input(\"Enter Heart Disease (No/Yes): \")\n",
    "    heart_disease_code = heart_disease_mapping[heart_disease]\n",
    "    \n",
    "    # Ever Married\n",
    "    ever_married = input(\"Enter Ever Married (No/Yes): \")\n",
    "    ever_married_code = ever_married_mapping[ever_married]\n",
    "    \n",
    "    # Work Type\n",
    "    work_type = input(\"Enter Work Type (Private/Self-employed/Govt_job/children): \")\n",
    "    work_type_code = work_type_mapping[work_type]\n",
    "    \n",
    "    # Prepare data\n",
    "    data = np.array([[gender_code, age, hypertension_code, heart_disease_code, ever_married_code, work_type_code, Residence_type_code, avg_glucose_level, bmi, smoking_status_code]])\n",
    "    \n",
    "    return data\n",
    "\n",
    "# Call the function to get user input and prepare data\n",
    "data = get_user_input()"
   ]
  },
  {
   "cell_type": "code",
   "execution_count": null,
   "id": "06a32b57",
   "metadata": {
    "execution": {
     "iopub.execute_input": "2024-04-15T08:23:43.961574Z",
     "iopub.status.busy": "2024-04-15T08:23:43.961137Z",
     "iopub.status.idle": "2024-04-15T08:23:43.976602Z",
     "shell.execute_reply": "2024-04-15T08:23:43.975277Z",
     "shell.execute_reply.started": "2024-04-15T08:23:43.961541Z"
    },
    "papermill": {
     "duration": null,
     "end_time": null,
     "exception": null,
     "start_time": null,
     "status": "pending"
    },
    "tags": []
   },
   "outputs": [],
   "source": [
    "y_pred = clf_re.predict(data)"
   ]
  },
  {
   "cell_type": "code",
   "execution_count": null,
   "id": "706dab2d",
   "metadata": {
    "execution": {
     "iopub.execute_input": "2024-04-15T08:23:43.979068Z",
     "iopub.status.busy": "2024-04-15T08:23:43.978196Z",
     "iopub.status.idle": "2024-04-15T08:23:43.986701Z",
     "shell.execute_reply": "2024-04-15T08:23:43.985578Z",
     "shell.execute_reply.started": "2024-04-15T08:23:43.979034Z"
    },
    "papermill": {
     "duration": null,
     "end_time": null,
     "exception": null,
     "start_time": null,
     "status": "pending"
    },
    "tags": []
   },
   "outputs": [],
   "source": [
    "def generate_text_Gemma(shap_values, feature_names):\n",
    "\n",
    "    # Extract feature names from the DataFrame\n",
    "    first_values = [pair[0] for pair in shap_values[0]]\n",
    "    positive_indices = [i for i, value in enumerate(first_values) if value > 0]\n",
    "    prompt = \"\"\n",
    "    for i in positive_indices:\n",
    "        i = int(i)\n",
    "        feature_shap_values = shap_values[0][i]\n",
    "        mean_shap_value = np.mean(feature_shap_values)\n",
    "        if mean_shap_value > 0:\n",
    "            prompt += f\"- {feature_names[i]}\"\n",
    "        else:\n",
    "            prompt += f\"- {feature_names[i]}\"\n",
    "\n",
    "    prompt += \"As a doctor, given the following information about a patient, can you provide a explanation of how these features contribute to stroke risk?\\n\"\n",
    "\n",
    "  \n",
    "    prompt = template.format(\n",
    "    instruction=prompt,\n",
    "    response=\"\",\n",
    "    )\n",
    "\n",
    "    generated_text = gemma_lm.generate(prompt, max_length=512)\n",
    "\n",
    "    return generated_text"
   ]
  },
  {
   "cell_type": "code",
   "execution_count": null,
   "id": "f1312537",
   "metadata": {
    "execution": {
     "iopub.execute_input": "2024-04-15T08:23:43.990832Z",
     "iopub.status.busy": "2024-04-15T08:23:43.990467Z",
     "iopub.status.idle": "2024-04-15T08:23:56.555486Z",
     "shell.execute_reply": "2024-04-15T08:23:56.553877Z",
     "shell.execute_reply.started": "2024-04-15T08:23:43.990805Z"
    },
    "papermill": {
     "duration": null,
     "end_time": null,
     "exception": null,
     "start_time": null,
     "status": "pending"
    },
    "tags": []
   },
   "outputs": [],
   "source": [
    "!pip install shap"
   ]
  },
  {
   "cell_type": "code",
   "execution_count": null,
   "id": "be602b5b",
   "metadata": {
    "papermill": {
     "duration": null,
     "end_time": null,
     "exception": null,
     "start_time": null,
     "status": "pending"
    },
    "tags": []
   },
   "outputs": [],
   "source": []
  },
  {
   "cell_type": "code",
   "execution_count": null,
   "id": "e24731c7",
   "metadata": {
    "execution": {
     "iopub.execute_input": "2024-04-15T08:23:56.557729Z",
     "iopub.status.busy": "2024-04-15T08:23:56.557318Z",
     "iopub.status.idle": "2024-04-15T08:24:01.702550Z",
     "shell.execute_reply": "2024-04-15T08:24:01.701311Z",
     "shell.execute_reply.started": "2024-04-15T08:23:56.557692Z"
    },
    "papermill": {
     "duration": null,
     "end_time": null,
     "exception": null,
     "start_time": null,
     "status": "pending"
    },
    "tags": []
   },
   "outputs": [],
   "source": [
    "import shap"
   ]
  },
  {
   "cell_type": "code",
   "execution_count": null,
   "id": "a20cd30c",
   "metadata": {
    "execution": {
     "iopub.execute_input": "2024-04-15T08:29:26.707955Z",
     "iopub.status.busy": "2024-04-15T08:29:26.707511Z"
    },
    "papermill": {
     "duration": null,
     "end_time": null,
     "exception": null,
     "start_time": null,
     "status": "pending"
    },
    "tags": []
   },
   "outputs": [],
   "source": [
    "explainer = shap.Explainer(clf_re)\n",
    "shap_values = explainer.shap_values(data)\n",
    "    \n",
    "# Generate text explanation using the GPT-2 model\n",
    "feature_names = ['Gender', 'Age', 'Hypertension', 'Heart Disease', 'Ever Married', 'Work Type', 'Residence Type', 'Average Glucose Level', 'BMI', 'Smoking Status']\n",
    "explanation_text = generate_text_Gemma(shap_values, feature_names)\n",
    "    \n"
   ]
  },
  {
   "cell_type": "code",
   "execution_count": null,
   "id": "0a4ec4be",
   "metadata": {
    "papermill": {
     "duration": null,
     "end_time": null,
     "exception": null,
     "start_time": null,
     "status": "pending"
    },
    "tags": []
   },
   "outputs": [],
   "source": [
    "# Display the prediction, SHAP values, and text explanation\n",
    "print(f\"Prediction: {y_pred[0]}\")\n",
    "print(f\"Explanation: {explanation_text}\")"
   ]
  },
  {
   "cell_type": "code",
   "execution_count": null,
   "id": "acf0ece5",
   "metadata": {
    "papermill": {
     "duration": null,
     "end_time": null,
     "exception": null,
     "start_time": null,
     "status": "pending"
    },
    "tags": []
   },
   "outputs": [],
   "source": []
  }
 ],
 "metadata": {
  "kaggle": {
   "accelerator": "none",
   "dataSources": [
    {
     "modelInstanceId": 5388,
     "sourceId": 11372,
     "sourceType": "modelInstanceVersion"
    },
    {
     "modelInstanceId": 26316,
     "sourceId": 31410,
     "sourceType": "modelInstanceVersion"
    }
   ],
   "dockerImageVersionId": 30684,
   "isGpuEnabled": false,
   "isInternetEnabled": true,
   "language": "python",
   "sourceType": "notebook"
  },
  "kernelspec": {
   "display_name": "Python 3",
   "language": "python",
   "name": "python3"
  },
  "language_info": {
   "codemirror_mode": {
    "name": "ipython",
    "version": 3
   },
   "file_extension": ".py",
   "mimetype": "text/x-python",
   "name": "python",
   "nbconvert_exporter": "python",
   "pygments_lexer": "ipython3",
   "version": "3.10.13"
  },
  "papermill": {
   "default_parameters": {},
   "duration": 107.977595,
   "end_time": "2024-04-15T16:48:44.609612",
   "environment_variables": {},
   "exception": true,
   "input_path": "__notebook__.ipynb",
   "output_path": "__notebook__.ipynb",
   "parameters": {},
   "start_time": "2024-04-15T16:46:56.632017",
   "version": "2.5.0"
  }
 },
 "nbformat": 4,
 "nbformat_minor": 5
}
